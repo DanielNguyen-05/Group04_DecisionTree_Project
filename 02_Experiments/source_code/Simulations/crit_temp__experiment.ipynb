{
 "cells": [
  {
   "cell_type": "code",
   "execution_count": 9,
   "id": "9530359b",
   "metadata": {},
   "outputs": [
    {
     "name": "stdout",
     "output_type": "stream",
     "text": [
      "The autoreload extension is already loaded. To reload it, use:\n",
      "  %reload_ext autoreload\n"
     ]
    }
   ],
   "source": [
    "import numpy as np\n",
    "import pandas as pd\n",
    "import pickle\n",
    "import matplotlib.pyplot as plt\n",
    "import matplotlib as mpl\n",
    "import statistics\n",
    "import math\n",
    "import sys\n",
    "from pylab import *\n",
    "from math import log\n",
    "from sklearn.ensemble import RandomForestRegressor\n",
    "from sklearn.tree import DecisionTreeRegressor\n",
    "from sklearn.metrics import mean_squared_error\n",
    "from sklearn.linear_model import LassoCV\n",
    "from sklearn.preprocessing import StandardScaler\n",
    "from tqdm import tqdm\n",
    "from generate_data import *\n",
    "from train_models import *\n",
    "from honest_trees import *\n",
    "%matplotlib inline\n",
    "%load_ext autoreload\n",
    "%autoreload 2"
   ]
  },
  {
   "cell_type": "code",
   "execution_count": 10,
   "id": "9f3a968c",
   "metadata": {},
   "outputs": [],
   "source": [
    "# Load spambase data\n",
    "df = pd.read_csv('dataset/train.csv')\n",
    "X = df.drop('critical_temp', axis=1).values\n",
    "y = df['critical_temp'].values"
   ]
  },
  {
   "cell_type": "code",
   "execution_count": 11,
   "id": "75b5daf3",
   "metadata": {},
   "outputs": [],
   "source": [
    "n_train = [100,250,500,750,1000,1500,2000,2500]\n",
    "n_test = 500\n",
    "d = len(X[0])\n",
    "beta = 1\n",
    "sigma = 0.1\n",
    "sparsity = [60,64]\n",
    "n_avg = 25"
   ]
  },
  {
   "cell_type": "code",
   "execution_count": 12,
   "id": "16b0ae0a",
   "metadata": {},
   "outputs": [],
   "source": [
    "def log_list(t):\n",
    "    return [math.log(x, math.e) if x != 0 else math.log(1e-10, math.e) for x in t]"
   ]
  },
  {
   "cell_type": "code",
   "execution_count": 13,
   "id": "b28cec93",
   "metadata": {},
   "outputs": [],
   "source": [
    "def get_best_fit_line(x,y):\n",
    "    m, b = np.polyfit(x, y, 1)\n",
    "    return [m,b]"
   ]
  },
  {
   "cell_type": "code",
   "execution_count": 14,
   "id": "1ff18721",
   "metadata": {},
   "outputs": [
    {
     "name": "stdout",
     "output_type": "stream",
     "text": [
      "Number of important features selected by Lasso: 64\n"
     ]
    }
   ],
   "source": [
    "# This cell uses Lasso to select important features\n",
    "scaler = StandardScaler()\n",
    "X_scaled = scaler.fit_transform(X)\n",
    "lasso = LassoCV(max_iter=10000, cv=5, random_state=0)\n",
    "lasso.fit(X_scaled, y)\n",
    "\n",
    "coefs = lasso.coef_\n",
    "\n",
    "\n",
    "feature_names = df.drop('critical_temp', axis=1).columns\n",
    "important_features = [(name, coef) for name, coef in zip(feature_names, coefs) if abs(coef) > 0]\n",
    "print(f\"Number of important features selected by Lasso: {len(important_features)}\")\n",
    "\n",
    "\n",
    "important_features_sorted = sorted(important_features, key=lambda x: abs(x[1]), reverse=True)\n",
    "\n",
    "top_60_features = [name for name, _ in important_features_sorted[:64]]\n",
    "# print(\"Top 60 important features selected by Lasso:\")\n",
    "# print(top_60_features)"
   ]
  },
  {
   "cell_type": "code",
   "execution_count": 20,
   "id": "97eef639",
   "metadata": {},
   "outputs": [],
   "source": [
    "# Initialize matrix for honest CART \n",
    "honest_CART_scores = []\n",
    "honest_CART_error_bar = []\n",
    "honest_CART_best_fit = []\n",
    "#Initialize matrix for honest CART with CCP \n",
    "#honest_CART_CCP_scores = []\n",
    "#honest_CART_CCP_error_bar = []\n",
    "\n",
    "#Initialize matrix for dishonest CART \n",
    "CART_scores = []\n",
    "CART_error_bar = []\n",
    "CART_best_fit = []\n",
    "\n",
    "#Initialize Matrix for dishonest CART with CCP \n",
    "#CART_CCP_scores = []\n",
    "#CART_CCP_error_bar = []\n",
    "\n",
    "#Initialize Matrix for RF\n",
    "RF_scores = []\n",
    "RF_error_bar = []\n",
    "RF_best_fit = []\n",
    "#Initialize matrix for theoretical lower bound "
   ]
  },
  {
   "cell_type": "code",
   "execution_count": 21,
   "id": "e66398e6",
   "metadata": {},
   "outputs": [
    {
     "name": "stderr",
     "output_type": "stream",
     "text": [
      "100%|██████████| 8/8 [08:29<00:00, 63.69s/it] \n",
      "100%|██████████| 8/8 [08:07<00:00, 60.88s/it] \n"
     ]
    }
   ],
   "source": [
    "#This cell's code is used to fit and predict for on linear model varying across the number of training samples/sparsity \n",
    "#shuffle data\n",
    "df = df.sample(frac=1, random_state=42).reset_index(drop=True)\n",
    "\n",
    "for s in sparsity: \n",
    "    honest_CART_s = []\n",
    "    honest_CART_s_error_bar = []\n",
    "    \n",
    "    \n",
    "    \n",
    "    #honest_CART_CCP_s = []\n",
    "    #honest_CART_CCP_s_error_bar = []\n",
    "    CART_s = []\n",
    "    CART_s_error_bar = []\n",
    "  \n",
    "    \n",
    "    #CART_CCP_s = []\n",
    "    #CART_CCP_s_error_bar = []\n",
    "    \n",
    "    RF_s = []\n",
    "    RF_s_error_bar = []\n",
    "\n",
    "    \n",
    "    X_df = pd.DataFrame(X, columns=feature_names)  \n",
    "    y_df = pd.Series(y)\n",
    "\n",
    "    for n in tqdm(n_train):\n",
    "        honest_CART = []\n",
    "        #honest_CART_CCP = []\n",
    "        CART = []\n",
    "        #CART_CCP = []\n",
    "        RF = []\n",
    "        for j in range(n_avg):\n",
    "            #Create data to fit models \n",
    "            top_s_features = top_60_features[:s]\n",
    "            \n",
    "            X_train = X_df.iloc[:n][top_s_features].reset_index(drop=True)\n",
    "            y_train = y_df.iloc[:n].reset_index(drop=True)\n",
    "\n",
    "            X_test = X_df.iloc[n:n+n_test][top_s_features].reset_index(drop=True)\n",
    "            y_test = y_df.iloc[n:n+n_test].reset_index(drop=True)\n",
    "\n",
    "            X_honest = X_df.iloc[-n:][top_s_features].reset_index(drop=True)\n",
    "            y_honest = y_df.iloc[-n:].reset_index(drop=True)\n",
    "            \n",
    "            \n",
    "            #Fit and predict for all versions of CART\n",
    "            honest_CART_MSE,CART_MSE =  train_all_models(X_train,y_train,X_honest,y_honest,X_test,y_test,sigma,k = 5)\n",
    "            honest_CART.append(honest_CART_MSE)\n",
    "            \n",
    "            \n",
    "            \n",
    "            #honest_CART_CCP.append(honest_CART_CCP_MSE)\n",
    "            CART.append(CART_MSE)\n",
    "            #CART_CCP.append(CART_CCP_MSE)\n",
    "            \n",
    "            #Fit and predict for RF\n",
    "            rf = RandomForestRegressor(n_estimators = 100,max_features = 0.33)\n",
    "            rf.fit(X_train,y_train)\n",
    "            rf_preds = rf.predict(X_test)\n",
    "            RF.append(mean_squared_error(y_test,rf_preds))\n",
    "            \n",
    "            \n",
    "            \n",
    "        #Store Performance in matrix\n",
    "        honest_CART_s.append(statistics.mean(honest_CART))\n",
    "        honest_CART_s_error_bar.append(statistics.stdev(honest_CART))\n",
    "        \n",
    "        #honest_CART_CCP_s.append(statistics.mean(honest_CART_CCP))\n",
    "        #honest_CART_CCP_s_error_bar.append(statistics.stdev(honest_CART_CCP))\n",
    "        \n",
    "        CART_s.append(statistics.mean(CART))\n",
    "        CART_s_error_bar.append(statistics.stdev(CART))\n",
    "        \n",
    "        #CART_CCP_s.append(statistics.mean(CART_CCP))\n",
    "        #CART_CCP_s_error_bar.append(statistics.stdev(CART_CCP))\n",
    "        \n",
    "        RF_s.append(statistics.mean(RF))\n",
    "        RF_s_error_bar.append(statistics.stdev(RF))\n",
    "        \n",
    "\n",
    "    \n",
    "    #save results \n",
    "    honest_CART_scores.append(honest_CART_s)\n",
    "    #honest_CART_CCP_scores.append(honest_CART_CCP_s)\n",
    "    CART_scores.append(CART_s)\n",
    "    #CART_CCP_scores.append(CART_CCP_s)\n",
    "    RF_scores.append(RF_s)\n",
    "    \n",
    "    \n",
    "    honest_CART_error_bar.append(honest_CART_s_error_bar)\n",
    "    #honest_CART_CCP_error_bar.append(honest_CART_CCP_s_error_bar)\n",
    "    CART_error_bar.append(CART_s_error_bar)\n",
    "    #CART_CCP_error_bar.append(CART_CCP_s_error_bar) \n",
    "    RF_error_bar.append(RF_s_error_bar)"
   ]
  },
  {
   "cell_type": "markdown",
   "id": "1ce3517a",
   "metadata": {},
   "source": [
    "# Save Results "
   ]
  },
  {
   "cell_type": "code",
   "execution_count": 16,
   "id": "893c3aef",
   "metadata": {},
   "outputs": [],
   "source": [
    "honest_CART_results = (honest_CART_scores,honest_CART_error_bar)\n",
    "with open('results/age/honestCART.pkl','wb') as f:\n",
    "    pickle.dump(honest_CART_results, f)"
   ]
  },
  {
   "cell_type": "code",
   "execution_count": 17,
   "id": "732a1292",
   "metadata": {},
   "outputs": [],
   "source": [
    "CART_results = (CART_scores,CART_error_bar)\n",
    "with open('results/age/CART.pkl','wb') as f:\n",
    "    pickle.dump(CART_results,f)"
   ]
  },
  {
   "cell_type": "code",
   "execution_count": 18,
   "id": "51689d8b",
   "metadata": {},
   "outputs": [],
   "source": [
    "RF_results = (RF_scores,RF_error_bar)\n",
    "with open('results/age/RF.pkl','wb') as f:\n",
    "    pickle.dump(RF_results,f)"
   ]
  },
  {
   "cell_type": "markdown",
   "id": "b0b6d474",
   "metadata": {},
   "source": [
    "# Best-fit line Slopes"
   ]
  },
  {
   "cell_type": "code",
   "execution_count": 22,
   "id": "5472b341",
   "metadata": {},
   "outputs": [],
   "source": [
    "for (i,s) in enumerate(sparsity):\n",
    "    honest_CART_best_fit.append(get_best_fit_line(log_list(n_train),log_list(honest_CART_scores[i])))\n",
    "    CART_best_fit.append(get_best_fit_line(log_list(n_train),log_list(CART_scores[i])))\n",
    "    RF_best_fit.append(get_best_fit_line(log_list(n_train),log_list(RF_scores[i])))"
   ]
  },
  {
   "cell_type": "markdown",
   "id": "54ff69ab",
   "metadata": {},
   "source": [
    "# Plot Results "
   ]
  },
  {
   "cell_type": "code",
   "execution_count": 23,
   "id": "cbac6084",
   "metadata": {},
   "outputs": [],
   "source": [
    "import pylab\n",
    "# Set global plotting parameters\n",
    "plt.style.use(\"fivethirtyeight\")\n",
    "mpl.rcParams['lines.markersize'] = 10\n",
    "mpl.rcParams['grid.linewidth'] = 2.5\n",
    "mpl.rcParams['legend.fontsize'] = 20\n",
    "pylab.rcParams['xtick.major.pad'] = 5\n",
    "pylab.rcParams['ytick.major.pad'] = 5\n",
    "mpl.rcParams[\"figure.figsize\"] = [8, 6]\n",
    "mpl.rcParams['savefig.transparent'] = True\n",
    "plt.rcParams['figure.facecolor'] = 'white'\n",
    "plt.rcParams['figure.edgecolor'] = 'black'\n",
    "# plt.rcParams['patch.edgecolor'] = 'white'\n",
    "plt.rcParams['axes.facecolor'] = 'white'\n",
    "# plt.rcParams['grid.color'] = 'black'\n",
    "colors = plt.rcParams['axes.prop_cycle'].by_key()['color']\n",
    "\n",
    "label_size = 25\n",
    "mpl.rcParams['xtick.labelsize'] = label_size \n",
    "mpl.rcParams['ytick.labelsize'] = label_size \n",
    "mpl.rcParams['axes.labelsize'] = label_size\n",
    "mpl.rcParams['axes.titlesize'] = label_size\n",
    "mpl.rcParams['figure.titlesize'] = label_size\n"
   ]
  },
  {
   "cell_type": "code",
   "execution_count": 30,
   "id": "78bd5220",
   "metadata": {},
   "outputs": [],
   "source": [
    "linear_lower_bound_fig,linear_lower_bound_axs = plt.subplots(1,2,figsize = (24,10),sharex = True,sharey = True)\n",
    "\n",
    "\n",
    "#Plot Performance for different models \n",
    "\n",
    "# s = 60\n",
    "linear_lower_bound_axs[0].errorbar(n_train,honest_CART_scores[0],yerr = honest_CART_error_bar[0],fmt = '^',label = 'honest CART',color = 'green')\n",
    "linear_lower_bound_axs[0].errorbar(n_train,pow(math.e,honest_CART_best_fit[0][0]*np.array(log_list(n_train))+honest_CART_best_fit[0][1]),linestyle = 'dashed',label = 'slope = ' +str(honest_CART_best_fit[0][0])[:5],color = 'green')\n",
    "\n",
    "linear_lower_bound_axs[0].errorbar(n_train,CART_scores[0],yerr = CART_error_bar[0],fmt = 'x',label = 'CART',color = 'red')\n",
    "linear_lower_bound_axs[0].errorbar(n_train,pow(math.e,CART_best_fit[0][0]*np.array(log_list(n_train))+CART_best_fit[0][1]),linestyle = 'dashed',label = 'slope = ' + str(CART_best_fit[0][0])[:5],color = 'red')\n",
    "\n",
    "\n",
    "linear_lower_bound_axs[0].errorbar(n_train,RF_scores[0],yerr = RF_error_bar[0],fmt = 'o',label = 'RF',color = 'blue')\n",
    "linear_lower_bound_axs[0].errorbar(n_train,pow(math.e,RF_best_fit[0][0]*np.array(log_list(n_train))+RF_best_fit[0][1]),linestyle = 'dashed',label = 'slope = ' + str(RF_best_fit[0][0])[:5],color = 'blue')\n",
    "\n",
    "\n",
    "\n",
    "# s = 64\n",
    "linear_lower_bound_axs[1].errorbar(n_train,honest_CART_scores[1],yerr = honest_CART_error_bar[0],fmt = '^',label = 'honest CART',color = 'green')\n",
    "linear_lower_bound_axs[1].errorbar(n_train,pow(math.e,honest_CART_best_fit[1][0]*np.array(log_list(n_train))+honest_CART_best_fit[1][1]),linestyle = 'dashed',label = 'slope = ' +str(honest_CART_best_fit[1][0])[:5],color = 'green')\n",
    "\n",
    "linear_lower_bound_axs[1].errorbar(n_train,CART_scores[1],yerr = CART_error_bar[1],fmt = 'x',label = 'CART',color = 'red')\n",
    "linear_lower_bound_axs[1].errorbar(n_train,pow(math.e,CART_best_fit[1][0]*np.array(log_list(n_train))+CART_best_fit[1][1]),linestyle = 'dashed',label = 'slope = ' + str(CART_best_fit[1][0])[:5],color = 'red')\n",
    "\n",
    "\n",
    "linear_lower_bound_axs[1].errorbar(n_train,RF_scores[1],yerr = RF_error_bar[1],fmt = 'o',label = 'RF',color = 'blue')\n",
    "linear_lower_bound_axs[1].errorbar(n_train,pow(math.e,RF_best_fit[1][0]*np.array(log_list(n_train))+RF_best_fit[1][1]),linestyle = 'dashed',label = 'slope = ' +str(RF_best_fit[1][0])[:5],color = 'blue')\n",
    "\n",
    "\n",
    "\n",
    "\n",
    "\n",
    "\n",
    "\n",
    "\n",
    "linear_lower_bound_axs[0].legend(loc = 'best')\n",
    "linear_lower_bound_axs[1].legend(loc = 'best')\n",
    "\n",
    "linear_lower_bound_axs[0].text(500.0, 3.45, 's=60',\n",
    "      fontsize=16, fontweight='bold', va='top')\n",
    "linear_lower_bound_axs[1].text(500.0, 3.45, 's=64',\n",
    "      fontsize=16, fontweight='bold', va='top')\n",
    "linear_lower_bound_axs[0].set_ylabel('MSE',fontsize = 25)\n",
    "#linear_lower_bound_axs[1].set_ylabel('MSE',fontsize = 18)\n",
    "\n",
    "linear_lower_bound_axs[0].set_xlabel('Number of Samples n',fontsize = 25)\n",
    "linear_lower_bound_axs[1].set_xlabel('Number of Samples n',fontsize = 25)\n",
    "\n",
    "linear_lower_bound_axs[0].set_yscale('log')\n",
    "linear_lower_bound_axs[1].set_yscale('log')\n",
    "linear_lower_bound_axs[0].set_xscale('log')\n",
    "linear_lower_bound_axs[1].set_xscale('log')\n",
    "\n",
    "linear_lower_bound_axs[0].grid()\n",
    "linear_lower_bound_axs[1].grid()\n",
    "\n",
    "\n",
    "\n",
    "#plt.tight_layout(pad=0.4,w_pad=0.5, h_pad=1.5)\n",
    "\n",
    "labels = [r'$10^{0}$', r'$10^{1}$', r'$10^{2}$', r'$10^{3}$']\n",
    "ytick = [1,10,100,1000]\n",
    "#plt.xticks(n_train, labels, rotation='vertical')\n",
    "\n",
    "\n",
    "#linear_lower_bound_axs[0].set_yticks([0.1, 0.5, 1.0,3.0])\n",
    "# plt.yticks(ytick,labels)\n",
    "#linear_lower_bound_axs[0].get_yaxis().set_major_formatter(matplotlib.ticker.ScalarFormatter())\n",
    "#linear_lower_bound_axs[0].set_ylim(0.1, 3.0);\n",
    "\n",
    "\n"
   ]
  },
  {
   "cell_type": "code",
   "execution_count": 31,
   "id": "abdb8219",
   "metadata": {},
   "outputs": [],
   "source": [
    "linear_lower_bound_fig.savefig('figures/crit_temp.png')"
   ]
  },
  {
   "cell_type": "code",
   "execution_count": null,
   "id": "9f663231",
   "metadata": {},
   "outputs": [
    {
     "name": "stderr",
     "output_type": "stream",
     "text": [
      "gpu - Alias not found.\n",
      "\n"
     ]
    }
   ],
   "source": [
    "!wmic cpu get Name, NumberOfCores, NumberOfLogicalProcessors, MaxClockSpeed, L2CacheSize, L3CacheSize, Architecture"
   ]
  },
  {
   "cell_type": "code",
   "execution_count": null,
   "id": "fb16890c",
   "metadata": {},
   "outputs": [],
   "source": []
  }
 ],
 "metadata": {
  "kernelspec": {
   "display_name": "base",
   "language": "python",
   "name": "python3"
  },
  "language_info": {
   "codemirror_mode": {
    "name": "ipython",
    "version": 3
   },
   "file_extension": ".py",
   "mimetype": "text/x-python",
   "name": "python",
   "nbconvert_exporter": "python",
   "pygments_lexer": "ipython3",
   "version": "3.13.5"
  }
 },
 "nbformat": 4,
 "nbformat_minor": 5
}
